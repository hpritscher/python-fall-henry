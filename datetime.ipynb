{
 "cells": [
  {
   "cell_type": "code",
   "execution_count": 1,
   "metadata": {},
   "outputs": [
    {
     "name": "stdout",
     "output_type": "stream",
     "text": [
      "Today is 2017-10-03 The current time is 00:00:00\n"
     ]
    }
   ],
   "source": [
    "from datetime import datetime, date, time    \n",
    "class mydate():\n",
    "    def __init__ (self):\n",
    "        self.today = date.today()\n",
    "    \n",
    "class mytime(object):\n",
    "    def __init__ (self):\n",
    "        self.time = time()\n",
    "        \n",
    "\n",
    "d = mydate()\n",
    "d_time = mytime()\n",
    "current_date = str(d.today)\n",
    "current_time = str(d_time.time)\n",
    "print(\"Today is \" + current_date + \" \"+ \"The current time is \" + current_time)"
   ]
  },
  {
   "cell_type": "code",
   "execution_count": null,
   "metadata": {
    "collapsed": true
   },
   "outputs": [],
   "source": []
  }
 ],
 "metadata": {
  "kernelspec": {
   "display_name": "Python 3",
   "language": "python",
   "name": "python3"
  },
  "language_info": {
   "codemirror_mode": {
    "name": "ipython",
    "version": 3
   },
   "file_extension": ".py",
   "mimetype": "text/x-python",
   "name": "python",
   "nbconvert_exporter": "python",
   "pygments_lexer": "ipython3",
   "version": "3.6.1"
  }
 },
 "nbformat": 4,
 "nbformat_minor": 2
}
