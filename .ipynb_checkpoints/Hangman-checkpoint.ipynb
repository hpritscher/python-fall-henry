{
 "cells": [
  {
   "cell_type": "code",
   "execution_count": 1,
   "metadata": {},
   "outputs": [
    {
     "name": "stdout",
     "output_type": "stream",
     "text": [
      "['S', 'H', 'R', 'I', 'M', 'P']\n",
      "The topic is food\n",
      "_ _ _ _ _ _\n",
      "Guess a Letter:  s\n",
      "works\n",
      "S _ _ _ _ _\n",
      "Guess a Letter:  s\n",
      "works\n",
      "S _ _ _ _ _\n",
      "Guess a Letter:  s\n",
      "works\n",
      "S _ _ _ _ _\n",
      "Guess a Letter:  s\n",
      "works\n",
      "S _ _ _ _ _\n",
      "Guess a Letter:  s\n",
      "works\n",
      "S _ _ _ _ _\n",
      "Guess a Letter:  s\n",
      "works\n",
      "S _ _ _ _ _\n",
      "You guessed the word! This man shall not hang today\n"
     ]
    }
   ],
   "source": [
    "import random\n",
    "\n",
    "possibleAnswers = [\"EGGS\",\"TOAST\",\"BACON\",\"OLIVES\",\"SALT\",\"PEPPER\",\"BANANAS\",\"APPLES\",\"PEARS\",\"LEMON\",\"CHOCOLATE\",\"GARLIC\",\"SHRIMP\",\"OATMEAL\"]\n",
    "\n",
    "random.shuffle(possibleAnswers)\n",
    "answer = list(possibleAnswers[1])\n",
    "print(answer)\n",
    "display = []\n",
    "display.extend(answer)\n",
    "\n",
    "for i in range(len(display)):\n",
    "    display[i] = \"_\"\n",
    "    \n",
    "print(\"The topic is food\")\n",
    "\n",
    "print (' '.join(display))\n",
    "\n",
    "count = 0\n",
    "\n",
    "while count < len(answer):\n",
    "    guess = input(\"Guess a Letter:  \")\n",
    "    guess = guess.upper()\n",
    "    \n",
    "    for i in range(len(answer)):\n",
    "        if answer[i] == guess:\n",
    "            print (\"works\")\n",
    "            display[i] = guess\n",
    "            count += 1\n",
    "            \n",
    "    print (' '.join(display))\n",
    "    \n",
    "print (\"You guessed the word! This man shall not hang today\")\n",
    "            \n",
    "    "
   ]
  },
  {
   "cell_type": "code",
   "execution_count": null,
   "metadata": {
    "collapsed": true
   },
   "outputs": [],
   "source": []
  }
 ],
 "metadata": {
  "kernelspec": {
   "display_name": "Python 3",
   "language": "python",
   "name": "python3"
  },
  "language_info": {
   "codemirror_mode": {
    "name": "ipython",
    "version": 3
   },
   "file_extension": ".py",
   "mimetype": "text/x-python",
   "name": "python",
   "nbconvert_exporter": "python",
   "pygments_lexer": "ipython3",
   "version": "3.6.1"
  }
 },
 "nbformat": 4,
 "nbformat_minor": 2
}
