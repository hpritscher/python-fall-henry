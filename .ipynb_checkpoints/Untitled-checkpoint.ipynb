{
 "cells": [
  {
   "cell_type": "code",
   "execution_count": 1,
   "metadata": {},
   "outputs": [
    {
     "ename": "SyntaxError",
     "evalue": "Missing parentheses in call to 'print' (<ipython-input-1-1c6a687e04a4>, line 11)",
     "output_type": "error",
     "traceback": [
      "\u001b[1;36m  File \u001b[1;32m\"<ipython-input-1-1c6a687e04a4>\"\u001b[1;36m, line \u001b[1;32m11\u001b[0m\n\u001b[1;33m    print \"The current state of \" + noun1 + \" is \" + adjective1\u001b[0m\n\u001b[1;37m                                ^\u001b[0m\n\u001b[1;31mSyntaxError\u001b[0m\u001b[1;31m:\u001b[0m Missing parentheses in call to 'print'\n"
     ]
    }
   ],
   "source": [
    "adjective1 = input(\"Tell me an adjective, and click enter. \")\n",
    "noun1 = input(\"Tell me a noun (plural), and click enter. \")\n",
    "noun2 = input(\"Tell me another noun (plural), and click enter. \")\n",
    "adjective2 = input(\"Tell me another adjective, and click enter. \")\n",
    "verb1 = input(\"Tell me a verb, and click enter. \")\n",
    "verb2 = input(\"Tell me another verb, and click enter. \")\n",
    "adjective3 = input(\"Tell me another adjective, and click enter. \")\n",
    "noun3 = input(\"Tell me another noun (plural), and click enter. \")\n",
    "verb3 = input(\"Tell me another verb, and click enter. \")\n",
    " \n",
    "print (\"The current state of \" + noun1 + \" is \" + adjective1)\n",
    "print (\"It makes me want to \" + verb1)\n",
    "print (\"Changes are \" + adjective2)\n",
    "print (\"But when \" + noun2 + \" \" + verb2 +\" then it is time to call \" + adjective3 + \" \" + noun3 + \" and \" + verb3)\n"
   ]
  }
 ],
 "metadata": {
  "kernelspec": {
   "display_name": "Python 3",
   "language": "python",
   "name": "python3"
  },
  "language_info": {
   "codemirror_mode": {
    "name": "ipython",
    "version": 3
   },
   "file_extension": ".py",
   "mimetype": "text/x-python",
   "name": "python",
   "nbconvert_exporter": "python",
   "pygments_lexer": "ipython3",
   "version": "3.6.1"
  }
 },
 "nbformat": 4,
 "nbformat_minor": 2
}
