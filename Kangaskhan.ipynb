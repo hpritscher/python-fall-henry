{
 "cells": [
  {
   "cell_type": "code",
   "execution_count": null,
   "metadata": {
    "collapsed": true
   },
   "outputs": [],
   "source": [
    "class pokemon(object):\n",
    "    def __init__(self, location, trainer, pokeDexNumber,xp)\n",
    "        self.location = deep forest\n",
    "        self.trainer = Ash\n",
    "        self.pokeDexNumber = 115\n",
    "        self.xp = 1500\n",
    "        self.evolution = 0\n",
    "    def xp(self)\n",
    "    \n",
    "    def evolve\n",
    "    \n",
    "    \n",
    "class Character(pokemon):\n",
    "    def __init__(self, name, age, weakness)\n",
    "        self.name = Kangaskhan\n",
    "        self.age = 116\n",
    "        self.weakness = fighting\n",
    "    def attack\n",
    "    \n",
    "    def evolving\n",
    "    \n",
    "       \n",
    "    x or y "
   ]
  }
 ],
 "metadata": {
  "kernelspec": {
   "display_name": "Python 3",
   "language": "python",
   "name": "python3"
  },
  "language_info": {
   "codemirror_mode": {
    "name": "ipython",
    "version": 3
   },
   "file_extension": ".py",
   "mimetype": "text/x-python",
   "name": "python",
   "nbconvert_exporter": "python",
   "pygments_lexer": "ipython3",
   "version": "3.6.1"
  }
 },
 "nbformat": 4,
 "nbformat_minor": 2
}
