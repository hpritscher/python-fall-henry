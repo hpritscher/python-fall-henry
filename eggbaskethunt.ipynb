{
 "cells": [
  {
   "cell_type": "code",
   "execution_count": 1,
   "metadata": {},
   "outputs": [
    {
     "ename": "NameError",
     "evalue": "name 'EggBasketHunt' is not defined",
     "output_type": "error",
     "traceback": [
      "\u001b[1;31m---------------------------------------------------------------------------\u001b[0m",
      "\u001b[1;31mNameError\u001b[0m                                 Traceback (most recent call last)",
      "\u001b[1;32m<ipython-input-1-b5eb8b78b4fa>\u001b[0m in \u001b[0;36m<module>\u001b[1;34m()\u001b[0m\n\u001b[1;32m----> 1\u001b[1;33m \u001b[1;32mclass\u001b[0m \u001b[0mroom2\u001b[0m\u001b[1;33m(\u001b[0m\u001b[0mEggBasketHunt\u001b[0m\u001b[1;33m)\u001b[0m\u001b[1;33m:\u001b[0m\u001b[1;33m\u001b[0m\u001b[0m\n\u001b[0m\u001b[0;32m      2\u001b[0m     \u001b[0mgetItems\u001b[0m\u001b[1;33m(\u001b[0m\u001b[1;36m2\u001b[0m\u001b[1;33m)\u001b[0m\u001b[1;33m\u001b[0m\u001b[0m\n\u001b[0;32m      3\u001b[0m     \u001b[0mdef__init__\u001b[0m\u001b[1;33m(\u001b[0m\u001b[0mself\u001b[0m\u001b[1;33m)\u001b[0m\u001b[1;33m\u001b[0m\u001b[0m\n\u001b[0;32m      4\u001b[0m \u001b[1;33m\u001b[0m\u001b[0m\n",
      "\u001b[1;31mNameError\u001b[0m: name 'EggBasketHunt' is not defined"
     ]
    }
   ],
   "source": [
    "class room2(EggBasketHunt):\n",
    "    getItems(2)\n",
    "    def __init__(self)\n",
    "    movement = input(\"Type S to exit Room 2\")\n",
    "    if movement == \"S\":\n",
    "        room8\n",
    "    else: \n",
    "        print (\"You can't go that way\")\n",
    "    \n",
    "        \n",
    "    \n",
    "    \n"
   ]
  },
  {
   "cell_type": "code",
   "execution_count": null,
   "metadata": {
    "collapsed": true
   },
   "outputs": [],
   "source": [
    "class room8(EggBasketHunt):\n",
    "    getItems(8)\n",
    "    def __init__(self)\n",
    "    movement = input(\"Type N to enter Room 2, S to enter Room 5, E to move East, or W to move West\")\n",
    "    if movement == \"N\":\n",
    "        room2\n",
    "    if movement == \"S\":\n",
    "        room5\n",
    "    if movement == \"E\":\n",
    "        room9\n",
    "    if movement == \"W\":\n",
    "        room7\n",
    "    else:\n",
    "        print (\"You can't go that way\")"
   ]
  },
  {
   "cell_type": "code",
   "execution_count": null,
   "metadata": {
    "collapsed": true
   },
   "outputs": [],
   "source": [
    "class room5(EggBasketHunt):\n",
    "    getItems(5)\n",
    "    def __init__(self)\n",
    "    movement = input(\"Type N to exit room 5\")\n",
    "    if movement == \"N\":\n",
    "        room8\n",
    "    else:\n",
    "        print (\"You can't go that way\")"
   ]
  }
 ],
 "metadata": {
  "kernelspec": {
   "display_name": "Python 3",
   "language": "python",
   "name": "python3"
  },
  "language_info": {
   "codemirror_mode": {
    "name": "ipython",
    "version": 3
   },
   "file_extension": ".py",
   "mimetype": "text/x-python",
   "name": "python",
   "nbconvert_exporter": "python",
   "pygments_lexer": "ipython3",
   "version": "3.6.1"
  }
 },
 "nbformat": 4,
 "nbformat_minor": 2
}
