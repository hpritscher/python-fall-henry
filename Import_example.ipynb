{
 "cells": [
  {
   "cell_type": "code",
   "execution_count": null,
   "metadata": {},
   "outputs": [
    {
     "name": "stdout",
     "output_type": "stream",
     "text": [
      "--Return--\n",
      "> <ipython-input-1-c3305d79593d>(2)<module>()->None\n",
      "-> pdb.set_trace()\n",
      "(Pdb) s\n",
      "> c:\\users\\hprit\\anaconda\\lib\\site-packages\\ipython\\core\\interactiveshell.py(2884)run_code()\n",
      "-> sys.excepthook = old_excepthook\n"
     ]
    }
   ],
   "source": [
    "import pdb\n",
    "pdb.set_trace()\n",
    "num1 = 5\n",
    "num2 = 6\n",
    "num3 = 10\n",
    "\n",
    "def addUp(num1,num2,num3):\n",
    "    results = num1 + num2 + num3\n",
    "    \n",
    "addUp(num1,num2,num3)"
   ]
  }
 ],
 "metadata": {
  "kernelspec": {
   "display_name": "Python 3",
   "language": "python",
   "name": "python3"
  },
  "language_info": {
   "codemirror_mode": {
    "name": "ipython",
    "version": 3
   },
   "file_extension": ".py",
   "mimetype": "text/x-python",
   "name": "python",
   "nbconvert_exporter": "python",
   "pygments_lexer": "ipython3",
   "version": "3.6.1"
  }
 },
 "nbformat": 4,
 "nbformat_minor": 2
}
