{
 "cells": [
  {
   "cell_type": "code",
   "execution_count": 1,
   "metadata": {},
   "outputs": [
    {
     "name": "stdout",
     "output_type": "stream",
     "text": [
      "Tell me an adjective, and click enter. happy\n",
      "Tell me a noun (plural), and click enter. bananas\n",
      "Tell me another noun (plural), and click enter. sticks\n",
      "Tell me another adjective, and click enter. sick\n",
      "Tell me a verb, and click enter. jump\n",
      "Tell me another verb, and click enter. lurk\n",
      "Tell me another adjective, and click enter. tiny\n",
      "Tell me another noun (plural), and click enter. brains\n",
      "Tell me another verb, and click enter. run\n",
      "The current state of bananas is happy\n",
      "It makes me want to jump\n",
      "Changes are sick\n",
      "But when sticks lurk then it is time to call tiny brains and run\n"
     ]
    }
   ],
   "source": [
    "adjective1 = input(\"Tell me an adjective, and click enter. \")\n",
    "noun1 = input(\"Tell me a noun (plural), and click enter. \")\n",
    "noun2 = input(\"Tell me another noun (plural), and click enter. \")\n",
    "adjective2 = input(\"Tell me another adjective, and click enter. \")\n",
    "verb1 = input(\"Tell me a verb, and click enter. \")\n",
    "verb2 = input(\"Tell me another verb, and click enter. \")\n",
    "adjective3 = input(\"Tell me another adjective, and click enter. \")\n",
    "noun3 = input(\"Tell me another noun (plural), and click enter. \")\n",
    "verb3 = input(\"Tell me another verb, and click enter. \")\n",
    " \n",
    "print (\"The current state of \" + noun1 + \" is \" + adjective1)\n",
    "print (\"It makes me want to \" + verb1)\n",
    "print (\"Changes are \" + adjective2)\n",
    "print (\"But when \" + noun2 + \" \" + verb2 +\" then it is time to call \" + adjective3 + \" \" + noun3 + \" and \" + verb3)\n"
   ]
  }
 ],
 "metadata": {
  "kernelspec": {
   "display_name": "Python 3",
   "language": "python",
   "name": "python3"
  },
  "language_info": {
   "codemirror_mode": {
    "name": "ipython",
    "version": 3
   },
   "file_extension": ".py",
   "mimetype": "text/x-python",
   "name": "python",
   "nbconvert_exporter": "python",
   "pygments_lexer": "ipython3",
   "version": "3.6.1"
  }
 },
 "nbformat": 4,
 "nbformat_minor": 2
}
